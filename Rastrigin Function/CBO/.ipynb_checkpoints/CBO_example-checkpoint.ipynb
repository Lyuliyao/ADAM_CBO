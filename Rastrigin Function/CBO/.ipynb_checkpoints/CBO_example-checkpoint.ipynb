{
 "cells": [
  {
   "cell_type": "code",
   "execution_count": 10,
   "metadata": {},
   "outputs": [
    {
     "name": "stdout",
     "output_type": "stream",
     "text": [
      "Elapsed time is 36.599566 seconds.\n",
      "\n",
      "ans =\n",
      "\n",
      "     1\n",
      "\n"
     ]
    }
   ],
   "source": [
    "swarming_general_onepara(2,50,40,\"normal\",1,0.01,5.1,100)"
   ]
  },
  {
   "cell_type": "code",
   "execution_count": 9,
   "metadata": {},
   "outputs": [
    {
     "name": "stdout",
     "output_type": "stream",
     "text": [
      "Elapsed time is 58.112178 seconds.\n",
      "\n",
      "ans =\n",
      "\n",
      "     1\n",
      "\n"
     ]
    }
   ],
   "source": [
    "swarming_general_onepara(10,50,40,\"normal\",1,0.01,5.1,100)"
   ]
  },
  {
   "cell_type": "code",
   "execution_count": 11,
   "metadata": {},
   "outputs": [
    {
     "name": "stdout",
     "output_type": "stream",
     "text": [
      "Elapsed time is 82.041549 seconds.\n",
      "\n",
      "ans =\n",
      "\n",
      "    0.9700\n",
      "\n"
     ]
    }
   ],
   "source": [
    "swarming_general_onepara(20,50,40,\"normal\",1,0.01,5.1,100)"
   ]
  },
  {
   "cell_type": "code",
   "execution_count": 12,
   "metadata": {},
   "outputs": [
    {
     "name": "stdout",
     "output_type": "stream",
     "text": [
      "Elapsed time is 107.416605 seconds.\n",
      "\n",
      "ans =\n",
      "\n",
      "    0.3500\n",
      "\n"
     ]
    }
   ],
   "source": [
    "swarming_general_onepara(30,50,40,\"normal\",1,0.01,5.1,100)"
   ]
  },
  {
   "cell_type": "code",
   "execution_count": 25,
   "metadata": {},
   "outputs": [
    {
     "name": "stdout",
     "output_type": "stream",
     "text": [
      "Elapsed time is 38.463207 seconds.\n",
      "\n",
      "ans =\n",
      "\n",
      "    0.9900\n",
      "\n"
     ]
    }
   ],
   "source": [
    "swarming_general_onepara(2,50,40,\"levy\",0.5,0.1,0.1,100)"
   ]
  },
  {
   "cell_type": "code",
   "execution_count": 32,
   "metadata": {},
   "outputs": [
    {
     "name": "stdout",
     "output_type": "stream",
     "text": [
      "Elapsed time is 64.704253 seconds.\n",
      "\n",
      "ans =\n",
      "\n",
      "    0.0200\n",
      "\n"
     ]
    }
   ],
   "source": [
    "swarming_general_onepara(10,50,40,\"levy\",0.5,0.1,0.1,100)"
   ]
  },
  {
   "cell_type": "code",
   "execution_count": 64,
   "metadata": {},
   "outputs": [
    {
     "name": "stdout",
     "output_type": "stream",
     "text": [
      "Elapsed time is 41.290692 seconds.\n",
      "\n",
      "ans =\n",
      "\n",
      "     1\n",
      "\n"
     ]
    }
   ],
   "source": [
    "swarming_general_onepara(2,50,40,\"uniform\",0.01,0.1,3,100)"
   ]
  },
  {
   "cell_type": "code",
   "execution_count": 61,
   "metadata": {},
   "outputs": [
    {
     "name": "stdout",
     "output_type": "stream",
     "text": [
      "Elapsed time is 60.781044 seconds.\n",
      "\n",
      "ans =\n",
      "\n",
      "     1\n",
      "\n"
     ]
    }
   ],
   "source": [
    "swarming_general_onepara(10,50,40,\"uniform\",0.01,0.1,3,100)"
   ]
  },
  {
   "cell_type": "code",
   "execution_count": 62,
   "metadata": {},
   "outputs": [
    {
     "name": "stdout",
     "output_type": "stream",
     "text": [
      "Elapsed time is 70.809502 seconds.\n",
      "\n",
      "ans =\n",
      "\n",
      "    0.2200\n",
      "\n"
     ]
    }
   ],
   "source": [
    "swarming_general_onepara(20,50,40,\"uniform\",0.01,0.1,3,100)"
   ]
  },
  {
   "cell_type": "code",
   "execution_count": 63,
   "metadata": {},
   "outputs": [
    {
     "name": "stdout",
     "output_type": "stream",
     "text": [
      "Elapsed time is 87.434892 seconds.\n",
      "\n",
      "ans =\n",
      "\n",
      "     0\n",
      "\n"
     ]
    }
   ],
   "source": [
    "swarming_general_onepara(30,50,40,\"uniform\",0.01,0.1,3,100)"
   ]
  },
  {
   "cell_type": "code",
   "execution_count": null,
   "metadata": {},
   "outputs": [],
   "source": []
  }
 ],
 "metadata": {
  "kernelspec": {
   "display_name": "Matlab",
   "language": "matlab",
   "name": "matlab"
  },
  "language_info": {
   "codemirror_mode": "octave",
   "file_extension": ".m",
   "help_links": [
    {
     "text": "MetaKernel Magics",
     "url": "https://metakernel.readthedocs.io/en/latest/source/README.html"
    }
   ],
   "mimetype": "text/x-octave",
   "name": "matlab",
   "version": "0.16.9"
  }
 },
 "nbformat": 4,
 "nbformat_minor": 4
}
