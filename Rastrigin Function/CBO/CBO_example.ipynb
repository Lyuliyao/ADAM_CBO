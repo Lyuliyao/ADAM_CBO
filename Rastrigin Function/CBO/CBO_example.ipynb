{
 "cells": [
  {
   "cell_type": "code",
   "execution_count": 1,
   "metadata": {},
   "outputs": [
    {
     "name": "stdout",
     "output_type": "stream",
     "text": [
      "Elapsed time is 40.270271 seconds.\n",
      "\n",
      "ans =\n",
      "\n",
      "     1\n",
      "\n"
     ]
    }
   ],
   "source": [
    "swarming_general_onepara(2,50,40,\"normal\",1,0.01,5.1,100)"
   ]
  },
  {
   "cell_type": "code",
   "execution_count": 2,
   "metadata": {},
   "outputs": [
    {
     "name": "stdout",
     "output_type": "stream",
     "text": [
      "Elapsed time is 83.185443 seconds.\n",
      "\n",
      "ans =\n",
      "\n",
      "     1\n",
      "\n"
     ]
    }
   ],
   "source": [
    "swarming_general_onepara(10,50,40,\"normal\",1,0.01,5.1,100)"
   ]
  },
  {
   "cell_type": "code",
   "execution_count": 3,
   "metadata": {},
   "outputs": [
    {
     "name": "stdout",
     "output_type": "stream",
     "text": [
      "Elapsed time is 100.312319 seconds.\n",
      "\n",
      "ans =\n",
      "\n",
      "    0.9500\n",
      "\n"
     ]
    }
   ],
   "source": [
    "swarming_general_onepara(20,50,40,\"normal\",1,0.01,5.1,100)"
   ]
  },
  {
   "cell_type": "code",
   "execution_count": 2,
   "metadata": {},
   "outputs": [
    {
     "name": "stdout",
     "output_type": "stream",
     "text": [
      "Elapsed time is 79.825959 seconds.\n",
      "\n",
      "ans =\n",
      "\n",
      "    0.6600\n",
      "\n"
     ]
    }
   ],
   "source": [
    "swarming_general_onepara(20,50,20,\"normal\",1,0.01,5.1,100)"
   ]
  },
  {
   "cell_type": "code",
   "execution_count": 4,
   "metadata": {},
   "outputs": [
    {
     "name": "stdout",
     "output_type": "stream",
     "text": [
      "Elapsed time is 141.450941 seconds.\n",
      "\n",
      "ans =\n",
      "\n",
      "    0.3500\n",
      "\n"
     ]
    }
   ],
   "source": [
    "swarming_general_onepara(30,50,40,\"normal\",1,0.01,5.1,100)"
   ]
  },
  {
   "cell_type": "code",
   "execution_count": 1,
   "metadata": {},
   "outputs": [
    {
     "name": "stdout",
     "output_type": "stream",
     "text": [
      "Elapsed time is 371.097475 seconds.\n",
      "\n",
      "ans =\n",
      "\n",
      "     0\n",
      "\n"
     ]
    }
   ],
   "source": [
    "swarming_general_onepara(30,500,5,\"normal\",1,0.01,5.1,100)"
   ]
  },
  {
   "cell_type": "code",
   "execution_count": 11,
   "metadata": {},
   "outputs": [
    {
     "name": "stdout",
     "output_type": "stream",
     "text": [
      "Elapsed time is 41.223653 seconds.\n",
      "\n",
      "ans =\n",
      "\n",
      "    0.8300\n",
      "\n"
     ]
    }
   ],
   "source": [
    "swarming_general_onepara(2,50,40,\"levy\",0.5,0.1,0.1,100)"
   ]
  },
  {
   "cell_type": "code",
   "execution_count": 6,
   "metadata": {},
   "outputs": [
    {
     "name": "stdout",
     "output_type": "stream",
     "text": [
      "Elapsed time is 91.177326 seconds.\n",
      "\n",
      "ans =\n",
      "\n",
      "     0\n",
      "\n"
     ]
    }
   ],
   "source": [
    "swarming_general_onepara(10,50,40,\"levy\",0.5,0.1,0.1,100)"
   ]
  },
  {
   "cell_type": "code",
   "execution_count": 3,
   "metadata": {},
   "outputs": [
    {
     "name": "stdout",
     "output_type": "stream",
     "text": [
      "Elapsed time is 107.449641 seconds.\n",
      "\n",
      "ans =\n",
      "\n",
      "     0\n",
      "\n"
     ]
    }
   ],
   "source": [
    "swarming_general_onepara(20,50,40,\"levy\",0.5,0.1,0.1,100)"
   ]
  },
  {
   "cell_type": "code",
   "execution_count": 4,
   "metadata": {},
   "outputs": [
    {
     "name": "stdout",
     "output_type": "stream",
     "text": [
      "Elapsed time is 81.775149 seconds.\n",
      "\n",
      "ans =\n",
      "\n",
      "     0\n",
      "\n"
     ]
    }
   ],
   "source": [
    "swarming_general_onepara(20,50,20,\"levy\",0.5,0.1,0.1,100)"
   ]
  },
  {
   "cell_type": "code",
   "execution_count": 1,
   "metadata": {},
   "outputs": [
    {
     "name": "stdout",
     "output_type": "stream",
     "text": [
      "Elapsed time is 373.167882 seconds.\n",
      "\n",
      "ans =\n",
      "\n",
      "     0\n",
      "\n"
     ]
    }
   ],
   "source": [
    "swarming_general_onepara(30,500,5,\"levy\",0.5,0.1,0.1,100)"
   ]
  },
  {
   "cell_type": "code",
   "execution_count": 7,
   "metadata": {},
   "outputs": [
    {
     "name": "stdout",
     "output_type": "stream",
     "text": [
      "Elapsed time is 38.985197 seconds.\n",
      "\n",
      "ans =\n",
      "\n",
      "     1\n",
      "\n"
     ]
    }
   ],
   "source": [
    "swarming_general_onepara(2,50,40,\"uniform\",0.01,0.1,3,100)"
   ]
  },
  {
   "cell_type": "code",
   "execution_count": 8,
   "metadata": {},
   "outputs": [
    {
     "name": "stdout",
     "output_type": "stream",
     "text": [
      "Elapsed time is 83.881430 seconds.\n",
      "\n",
      "ans =\n",
      "\n",
      "     1\n",
      "\n"
     ]
    }
   ],
   "source": [
    "swarming_general_onepara(10,50,40,\"uniform\",0.01,0.1,3,100)"
   ]
  },
  {
   "cell_type": "code",
   "execution_count": 9,
   "metadata": {},
   "outputs": [
    {
     "name": "stdout",
     "output_type": "stream",
     "text": [
      "Elapsed time is 98.073676 seconds.\n",
      "\n",
      "ans =\n",
      "\n",
      "    0.1500\n",
      "\n"
     ]
    }
   ],
   "source": [
    "swarming_general_onepara(20,50,40,\"uniform\",0.01,0.1,3,100)"
   ]
  },
  {
   "cell_type": "code",
   "execution_count": 5,
   "metadata": {},
   "outputs": [
    {
     "name": "stdout",
     "output_type": "stream",
     "text": [
      "Elapsed time is 75.162131 seconds.\n",
      "\n",
      "ans =\n",
      "\n",
      "    0.0200\n",
      "\n"
     ]
    }
   ],
   "source": [
    "swarming_general_onepara(20,50,20,\"uniform\",0.01,0.1,3,100)"
   ]
  },
  {
   "cell_type": "code",
   "execution_count": 10,
   "metadata": {},
   "outputs": [
    {
     "name": "stdout",
     "output_type": "stream",
     "text": [
      "Elapsed time is 126.381351 seconds.\n",
      "\n",
      "ans =\n",
      "\n",
      "     0\n",
      "\n"
     ]
    }
   ],
   "source": [
    "swarming_general_onepara(30,50,40,\"uniform\",0.01,0.1,3,100)"
   ]
  },
  {
   "cell_type": "code",
   "execution_count": 1,
   "metadata": {},
   "outputs": [
    {
     "name": "stdout",
     "output_type": "stream",
     "text": [
      "Elapsed time is 315.062366 seconds.\n",
      "\n",
      "ans =\n",
      "\n",
      "     0\n",
      "\n"
     ]
    }
   ],
   "source": [
    "swarming_general_onepara(30,500,5,\"uniform\",0.01,0.1,3,100)"
   ]
  },
  {
   "cell_type": "code",
   "execution_count": 2,
   "metadata": {},
   "outputs": [
    {
     "name": "stdout",
     "output_type": "stream",
     "text": [
      "Elapsed time is 489.262387 seconds.\n",
      "\n",
      "ans =\n",
      "\n",
      "     0\n",
      "\n"
     ]
    }
   ],
   "source": [
    "swarming_general_onepara(30,500,400,\"uniform\",0.01,0.1,3,100)"
   ]
  },
  {
   "cell_type": "code",
   "execution_count": null,
   "metadata": {},
   "outputs": [],
   "source": []
  }
 ],
 "metadata": {
  "kernelspec": {
   "display_name": "Matlab",
   "language": "matlab",
   "name": "matlab"
  },
  "language_info": {
   "codemirror_mode": "octave",
   "file_extension": ".m",
   "help_links": [
    {
     "text": "MetaKernel Magics",
     "url": "https://metakernel.readthedocs.io/en/latest/source/README.html"
    }
   ],
   "mimetype": "text/x-octave",
   "name": "matlab",
   "version": "0.16.9"
  }
 },
 "nbformat": 4,
 "nbformat_minor": 4
}
